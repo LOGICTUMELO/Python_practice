{
 "cells": [
  {
   "cell_type": "code",
   "execution_count": 6,
   "metadata": {},
   "outputs": [
    {
     "name": "stdout",
     "output_type": "stream",
     "text": [
      "['apples', 'banana', 'cherry', 'peaches']\n"
     ]
    }
   ],
   "source": [
    "thislist=['banana','apples','peaches','cherry']\n",
    "thislist.sort(key=str.lower)\n",
    "print(thislist)"
   ]
  },
  {
   "cell_type": "code",
   "execution_count": 8,
   "metadata": {},
   "outputs": [
    {
     "name": "stdout",
     "output_type": "stream",
     "text": [
      "[50, 23, 82, 100]\n"
     ]
    }
   ],
   "source": [
    "def myfunc(n):\n",
    "    return abs(n-50)\n",
    "\n",
    "thislist=[100,50,82,23]\n",
    "thislist.sort(key=myfunc)\n",
    "print(thislist)"
   ]
  },
  {
   "cell_type": "code",
   "execution_count": 9,
   "metadata": {},
   "outputs": [
    {
     "name": "stdout",
     "output_type": "stream",
     "text": [
      "[100, 50, 20, 10]\n"
     ]
    }
   ],
   "source": [
    "thislist=[100,50,20,10]\n",
    "anotherlist=thislist.copy()\n",
    "print(anotherlist)\n"
   ]
  },
  {
   "cell_type": "code",
   "execution_count": 10,
   "metadata": {},
   "outputs": [
    {
     "name": "stdout",
     "output_type": "stream",
     "text": [
      "[1, 2, 3, 4, 5, 6, 7, 8, 9, 10]\n"
     ]
    }
   ],
   "source": [
    "list1=[1,2,3,4,5]\n",
    "list2=[6,7,8,9,10]\n",
    "list3=list1+list2\n",
    "print(list3)"
   ]
  },
  {
   "cell_type": "code",
   "execution_count": 13,
   "metadata": {},
   "outputs": [
    {
     "name": "stdout",
     "output_type": "stream",
     "text": [
      "['A', 'B', 'C', 1, 2, 3]\n"
     ]
    }
   ],
   "source": [
    "#you can also use the extend() method to combine list\n",
    "list5=['A','B','C']\n",
    "list6=[1,2,3]\n",
    "list5.extend(list6)\n",
    "print(list5)"
   ]
  },
  {
   "cell_type": "code",
   "execution_count": 16,
   "metadata": {},
   "outputs": [],
   "source": [
    "#converting a tuple into a lisy\n",
    "mytuple=(1,2,3,4,5)\n",
    "x=list(mytuple)\n",
    "x.append(1)\n",
    "mytuple=tuple(x)"
   ]
  },
  {
   "cell_type": "code",
   "execution_count": 17,
   "metadata": {},
   "outputs": [
    {
     "name": "stdout",
     "output_type": "stream",
     "text": [
      "1\n",
      "2\n",
      "3\n",
      "4\n",
      "5\n"
     ]
    }
   ],
   "source": [
    "#looping through tuples\n",
    "\n",
    "thistuple=(1,2,3,4,5)\n",
    "for x in thistuple:\n",
    "    print(x)"
   ]
  },
  {
   "cell_type": "code",
   "execution_count": 18,
   "metadata": {},
   "outputs": [],
   "source": [
    "#Nested dictionaries\n",
    "Mydetails={\n",
    "    'First_member':{\n",
    "        'Name':'Tumelo',\n",
    "        'Age':19\n",
    "    },\n",
    "    'Second_member':{\n",
    "        'Name':'Arthur',\n",
    "        'Age':29\n",
    "    },\n",
    "    'Third_member':{\n",
    "        'Name':'Thapelo',\n",
    "        'Age':13\n",
    "    }\n",
    "}"
   ]
  },
  {
   "cell_type": "code",
   "execution_count": 21,
   "metadata": {},
   "outputs": [
    {
     "name": "stdout",
     "output_type": "stream",
     "text": [
      "Tumelo is my name\n"
     ]
    }
   ],
   "source": [
    "#python functions\n",
    "\n",
    "def my_function(fname):\n",
    "    print(fname + \" is my name!\")\n",
    "\n",
    "\n",
    "my_function(\"Tumelo\")"
   ]
  },
  {
   "cell_type": "code",
   "execution_count": 24,
   "metadata": {},
   "outputs": [
    {
     "name": "stdout",
     "output_type": "stream",
     "text": [
      "My favourite item is Intellij\n"
     ]
    }
   ],
   "source": [
    "#Arbitrary Arguements.*arg\n",
    "def my_items(*names):\n",
    "    print(\"My favourite item is \" + names[1])\n",
    "my_items('Vscode','Intellij','Notepadd++')    "
   ]
  },
  {
   "cell_type": "code",
   "execution_count": 25,
   "metadata": {},
   "outputs": [
    {
     "name": "stdout",
     "output_type": "stream",
     "text": [
      "The oldest is Arthur\n"
     ]
    }
   ],
   "source": [
    "#Keyword arguements *Kwargs\n",
    "def names(Name1,Name2,Name3):\n",
    "    print(\"The oldest is \" +Name1)\n",
    "names(Name1='Arthur',Name2='Tumelo',Name3='Thapelo')"
   ]
  },
  {
   "cell_type": "code",
   "execution_count": 28,
   "metadata": {},
   "outputs": [
    {
     "name": "stdout",
     "output_type": "stream",
     "text": [
      "The last name is Mmakgabo\n"
     ]
    }
   ],
   "source": [
    "#Arbitrary Keyword Arguements **Kwargs\n",
    "def Names2(**Names2):\n",
    "    print('The last name is ' +Names2['lname'] )\n",
    "Names2(fname='Arthur',lname='Mmakgabo')\n",
    " "
   ]
  },
  {
   "cell_type": "code",
   "execution_count": 30,
   "metadata": {},
   "outputs": [
    {
     "name": "stdout",
     "output_type": "stream",
     "text": [
      "Fries\n",
      "Ice-cream\n",
      "Snacks\n"
     ]
    }
   ],
   "source": [
    "#Passing a list in pyhthon \n",
    "#every data type in python is treated the same inside a function\n",
    "def Myfav(food):\n",
    "    for x in food:\n",
    "        print(x)\n",
    "fruits=['Fries','Ice-cream','Snacks']\n",
    "\n",
    "Myfav(fruits)"
   ]
  },
  {
   "cell_type": "code",
   "execution_count": null,
   "metadata": {},
   "outputs": [],
   "source": [
    "#use the pass if your functions does not have any content\n",
    "#this is done to avoid getting an error\n",
    "def name(args):\n",
    " pass"
   ]
  },
  {
   "cell_type": "code",
   "execution_count": null,
   "metadata": {},
   "outputs": [],
   "source": [
    "def tri_recursion(k):\n",
    "    if (k>0):\n",
    "        result=k+ tri_recursion(k-1)\n",
    "        print(result)\n",
    "    else:\n",
    "        result=0\n",
    "    return result\n",
    "\n",
    "print('\\n\\nRecursion Example')\n",
    "tri_recursion(9)"
   ]
  },
  {
   "cell_type": "code",
   "execution_count": 43,
   "metadata": {},
   "outputs": [
    {
     "name": "stdout",
     "output_type": "stream",
     "text": [
      "5\n",
      "13\n"
     ]
    }
   ],
   "source": [
    "#Lambda functions \n",
    "x=lambda a:a+2\n",
    "print(x(3))\n",
    "\n",
    "def myadder(n):\n",
    "    return lambda a:a+n \n",
    "Myadder=myadder(2)\n",
    "print(Myadder(11))"
   ]
  },
  {
   "cell_type": "code",
   "execution_count": 61,
   "metadata": {},
   "outputs": [
    {
     "name": "stdout",
     "output_type": "stream",
     "text": [
      "Logic 19 Arthur 29 Thapelo 13\n"
     ]
    }
   ],
   "source": [
    "class person:\n",
    "    def __init__(self,name,age):\n",
    "        self.name=name\n",
    "        self.age=age\n",
    "    def __str__(self):\n",
    "        return f'{self.name}{self.age}'\n",
    "\n",
    "p1=person(\"Logic \",19)\n",
    "p2=person(\"Arthur \",29)\n",
    "p3=person(\"Thapelo \",13)\n",
    "print(p1,p2,p3)"
   ]
  },
  {
   "cell_type": "code",
   "execution_count": 6,
   "metadata": {},
   "outputs": [
    {
     "ename": "TypeError",
     "evalue": "person() takes no arguments",
     "output_type": "error",
     "traceback": [
      "\u001b[1;31m---------------------------------------------------------------------------\u001b[0m",
      "\u001b[1;31mTypeError\u001b[0m                                 Traceback (most recent call last)",
      "Cell \u001b[1;32mIn[6], line 9\u001b[0m\n\u001b[0;32m      6\u001b[0m     \u001b[38;5;28;01mdef\u001b[39;00m \u001b[38;5;21mmyFunc\u001b[39m(\u001b[38;5;28mself\u001b[39m):\n\u001b[0;32m      7\u001b[0m         \u001b[38;5;28mprint\u001b[39m(\u001b[38;5;124m'\u001b[39m\u001b[38;5;124mhello my name is \u001b[39m\u001b[38;5;124m'\u001b[39m\u001b[38;5;241m+\u001b[39m\u001b[38;5;28mself\u001b[39m\u001b[38;5;241m.\u001b[39mname\u001b[38;5;241m+\u001b[39m\u001b[38;5;124m'\u001b[39m\u001b[38;5;124m'\u001b[39m\u001b[38;5;241m+\u001b[39m\u001b[38;5;28mself\u001b[39m\u001b[38;5;241m.\u001b[39mage)\n\u001b[1;32m----> 9\u001b[0m p4\u001b[38;5;241m=\u001b[39m\u001b[43mperson\u001b[49m\u001b[43m(\u001b[49m\u001b[38;5;124;43m'\u001b[39;49m\u001b[38;5;124;43mTumelo\u001b[39;49m\u001b[38;5;124;43m'\u001b[39;49m\u001b[43m,\u001b[49m\u001b[38;5;241;43m19\u001b[39;49m\u001b[43m)\u001b[49m\n\u001b[0;32m     10\u001b[0m \u001b[38;5;28mprint\u001b[39m(p4)\n",
      "\u001b[1;31mTypeError\u001b[0m: person() takes no arguments"
     ]
    }
   ],
   "source": [
    "#object methods\n",
    "class person:\n",
    "    def ___init__(self,name,age):\n",
    "        self.name=name\n",
    "        self.age=age\n",
    "    def myFunc(self):\n",
    "        print('hello my name is '+self.name+''+self.age)\n",
    "\n",
    "p4=person('Tumelo',19)\n",
    "p4\n"
   ]
  },
  {
   "cell_type": "code",
   "execution_count": null,
   "metadata": {},
   "outputs": [],
   "source": []
  },
  {
   "cell_type": "code",
   "execution_count": null,
   "metadata": {},
   "outputs": [],
   "source": []
  },
  {
   "cell_type": "code",
   "execution_count": null,
   "metadata": {},
   "outputs": [],
   "source": []
  },
  {
   "cell_type": "code",
   "execution_count": null,
   "metadata": {},
   "outputs": [],
   "source": []
  }
 ],
 "metadata": {
  "kernelspec": {
   "display_name": "Python 3",
   "language": "python",
   "name": "python3"
  },
  "language_info": {
   "codemirror_mode": {
    "name": "ipython",
    "version": 3
   },
   "file_extension": ".py",
   "mimetype": "text/x-python",
   "name": "python",
   "nbconvert_exporter": "python",
   "pygments_lexer": "ipython3",
   "version": "3.11.8"
  }
 },
 "nbformat": 4,
 "nbformat_minor": 2
}
